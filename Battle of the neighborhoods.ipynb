{
 "cells": [
  {
   "cell_type": "markdown",
   "metadata": {},
   "source": [
    "# Battle of the neighborhoods\n",
    "\n",
    "This note book is creaed to do Battle of the neighborhoods capstone project.\n",
    "\n",
    "### Problem Statement\n",
    "\n",
    "Say you live on the west side of the city of\n",
    "Toronto in Canada. You love your neighborhood, mainly because of all the\n",
    "great amenities and other types of venues that exist in the neighborhood,\n",
    "such as gourmet fast food joints, pharmacies, parks, grad schools and so on.\n",
    "Now say you receive a job offer from a great company on the other side of the\n",
    "city with great career prospects. However given the far distance from your current\n",
    "place you unfortunately must move if you decide to accept the offer. Wouldn't it\n",
    "be great if you're able to determine neighborhoods on the other side of the\n",
    "city that are exactly the same as your current neighborhood, and if not perhaps\n",
    "similar neighborhoods that are at least closer to your new job? So in this\n",
    "capstone project I hope to equip you with the necessary skills to do so, and\n",
    "not only that, but at the end you will have the opportunity to be creative and\n",
    "come up with your own idea or problem to solve using location data. For example,\n",
    "you can choose to compare different neighborhoods in terms of a service,\n",
    "search for potential explanation of why a neighborhood is popular, the cause of\n",
    "complaints in another neighborhood, or anything else related to neighborhoods.\n",
    "Hence the name of the capstone project will be\n",
    "the Battle of the neighborhoods."
   ]
  },
  {
   "cell_type": "code",
   "execution_count": 2,
   "metadata": {},
   "outputs": [],
   "source": [
    "import pandas as pd\n",
    "import numpy as np"
   ]
  },
  {
   "cell_type": "code",
   "execution_count": 3,
   "metadata": {},
   "outputs": [
    {
     "name": "stdout",
     "output_type": "stream",
     "text": [
      "Hello Capstone Project Course!\n"
     ]
    }
   ],
   "source": [
    "print(\"Hello Capstone Project Course!\")"
   ]
  },
  {
   "cell_type": "code",
   "execution_count": null,
   "metadata": {},
   "outputs": [],
   "source": []
  }
 ],
 "metadata": {
  "kernelspec": {
   "display_name": "Python 3",
   "language": "python",
   "name": "python3"
  },
  "language_info": {
   "codemirror_mode": {
    "name": "ipython",
    "version": 3
   },
   "file_extension": ".py",
   "mimetype": "text/x-python",
   "name": "python",
   "nbconvert_exporter": "python",
   "pygments_lexer": "ipython3",
   "version": "3.6.5"
  }
 },
 "nbformat": 4,
 "nbformat_minor": 2
}
